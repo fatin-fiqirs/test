{
  "nbformat": 4,
  "nbformat_minor": 0,
  "metadata": {
    "colab": {
      "provenance": [],
      "authorship_tag": "ABX9TyOiUDVBIO+PA01KYYNV0IX+",
      "include_colab_link": true
    },
    "kernelspec": {
      "name": "python3",
      "display_name": "Python 3"
    },
    "language_info": {
      "name": "python"
    }
  },
  "cells": [
    {
      "cell_type": "markdown",
      "metadata": {
        "id": "view-in-github",
        "colab_type": "text"
      },
      "source": [
        "<a href=\"https://colab.research.google.com/github/fatin-fiqirs/test/blob/main/test.ipynb\" target=\"_parent\"><img src=\"https://colab.research.google.com/assets/colab-badge.svg\" alt=\"Open In Colab\"/></a>"
      ]
    },
    {
      "cell_type": "code",
      "execution_count": null,
      "metadata": {
        "colab": {
          "base_uri": "https://localhost:8080/"
        },
        "id": "9SUy8jvpMrXx",
        "outputId": "c83944d1-57d4-481a-cf33-3f9d087099bc"
      },
      "outputs": [
        {
          "output_type": "stream",
          "name": "stdout",
          "text": [
            "                                                                value\n",
            "aggregation-method                                                SUM\n",
            "alias               Demand, Demand Forecast, Net Generation, or In...\n",
            "units                                                   megawatthours\n",
            "Data saved to electricity_prices.csv\n"
          ]
        }
      ],
      "source": [
        "import requests\n",
        "import pandas as pd\n",
        "from datetime import datetime\n",
        "class EIADataFetcher:\n",
        "    def __init__(self, api_key):\n",
        "        self.api_key = api_key\n",
        "        self.base_url = \"https://api.eia.gov/v2\"\n",
        "\n",
        "    def get_electricity_data(self, route):\n",
        "        \"\"\"\n",
        "        Get electricity data from EIA API\n",
        "        \"\"\"\n",
        "        url = f\"{self.base_url}/{route}?api_key={self.api_key}\"\n",
        "        response = requests.get(url)\n",
        "\n",
        "        if response.status_code == 200:\n",
        "            return response.json()\n",
        "        else:\n",
        "            print(f\"Error: {response.status_code}\")\n",
        "            return None\n",
        "\n",
        "    def get_wholesale_prices(self):\n",
        "        \"\"\"\n",
        "        Get wholesale electricity prices\n",
        "        \"\"\"\n",
        "        route = \"electricity/rto/region-data\"\n",
        "        return self.get_electricity_data(route)\n",
        "\n",
        "# Example usage\n",
        "def main():\n",
        "    api_key = \"0uJhb753HljL7ey0rVz58sfzHdnR2l0KjSQqcdrZ\"  # Replace with your API key\n",
        "    fetcher = EIADataFetcher(api_key)\n",
        "\n",
        "    # Get wholesale prices\n",
        "    data = fetcher.get_wholesale_prices()\n",
        "\n",
        "    if data:\n",
        "        # Convert to DataFrame for easier analysis\n",
        "        df = pd.DataFrame(data['response']['data'])\n",
        "        print(df.head())\n",
        "\n",
        "        # Save to CSV\n",
        "        df.to_csv('electricity_prices.csv', index=False)\n",
        "        print(\"Data saved to electricity_prices.csv\")\n",
        "\n",
        "if __name__ == \"__main__\":\n",
        "    main()"
      ]
    },
    {
      "cell_type": "code",
      "source": [],
      "metadata": {
        "id": "9zKqxdj3NR68"
      },
      "execution_count": null,
      "outputs": []
    },
    {
      "cell_type": "code",
      "source": [
        "import requests\n",
        "import pandas as pd\n",
        "from datetime import datetime, timedelta\n",
        "\n",
        "class EIADataFetcher:\n",
        "    def __init__(self, api_key):\n",
        "        self.api_key = api_key\n",
        "        self.base_url = \"https://api.eia.gov/v2\"\n",
        "\n",
        "    def get_wholesale_prices(self):\n",
        "        \"\"\"\n",
        "        Get wholesale electricity prices using the series endpoint\n",
        "        \"\"\"\n",
        "        # Series IDs for wholesale prices\n",
        "        # CAISO - California\n",
        "        # ERCOT - Texas\n",
        "        series_ids = {\n",
        "            'CAISO': 'EBA.CAISO-ALL.NG.WAP.H',  # California wholesale price\n",
        "            'ERCOT': 'EBA.ERCO-ALL.NG.WAP.H'    # Texas wholesale price\n",
        "        }\n",
        "\n",
        "        dfs = []\n",
        "        for market, series_id in series_ids.items():\n",
        "            endpoint = f\"/electricity/rto/region-data/data\"\n",
        "            params = {\n",
        "                \"api_key\": self.api_key,\n",
        "                \"data[]\": [\"value\"],\n",
        "                \"facets[respondent][]\": market,\n",
        "                \"frequency\": \"hourly\",\n",
        "                \"start\": (datetime.now() - timedelta(days=7)).strftime(\"%Y-%m-%dT%H\"),\n",
        "                \"end\": datetime.now().strftime(\"%Y-%m-%dT%H\"),\n",
        "                \"sort[0][column]\": \"period\",\n",
        "                \"sort[0][direction]\": \"asc\"\n",
        "            }\n",
        "\n",
        "            try:\n",
        "                response = requests.get(f\"{self.base_url}{endpoint}\", params=params)\n",
        "                print(f\"URL requested: {response.url}\")  # Print URL for debugging\n",
        "\n",
        "                if response.status_code == 200:\n",
        "                    data = response.json()\n",
        "                    df = pd.DataFrame(data['response']['data'])\n",
        "                    df['market'] = market\n",
        "                    dfs.append(df)\n",
        "                else:\n",
        "                    print(f\"Error fetching {market} data: Status code {response.status_code}\")\n",
        "                    print(f\"Response: {response.text}\")\n",
        "\n",
        "            except Exception as e:\n",
        "                print(f\"Error occurred while fetching {market} data: {str(e)}\")\n",
        "\n",
        "        if not dfs:\n",
        "            return None\n",
        "\n",
        "        # Combine all data\n",
        "        combined_df = pd.concat(dfs, ignore_index=True)\n",
        "\n",
        "        # Process the dataframe\n",
        "        combined_df['period'] = pd.to_datetime(combined_df['period'])\n",
        "        processed_df = combined_df.pivot(index='period',\n",
        "                                       columns='market',\n",
        "                                       values='value').reset_index()\n",
        "\n",
        "        # Add Atlanta (constant price as in paper)\n",
        "        processed_df['Atlanta_GA'] = 55.30\n",
        "\n",
        "        # Rename columns\n",
        "        processed_df = processed_df.rename(columns={\n",
        "            'period': 'Timestamp',\n",
        "            'CAISO': 'Mountain_View_CA',\n",
        "            'ERCOT': 'Houston_TX'\n",
        "        })\n",
        "\n",
        "        return processed_df\n",
        "\n",
        "    def save_data(self):\n",
        "        \"\"\"\n",
        "        Save the electricity price data\n",
        "        \"\"\"\n",
        "        data = self.get_wholesale_prices()\n",
        "        if data is not None:\n",
        "            # Save to CSV\n",
        "            data.to_csv('electricity_prices.csv', index=False)\n",
        "            print(\"\\nData saved to electricity_prices.csv\")\n",
        "            print(\"\\nFirst few rows of the data:\")\n",
        "            print(data.head())\n",
        "\n",
        "            # Display data info\n",
        "            print(\"\\nDataset information:\")\n",
        "            print(data.info())\n",
        "        else:\n",
        "            print(\"No data was retrieved\")\n",
        "\n",
        "def main():\n",
        "    # Get API key from user\n",
        "    api_key = input(\"Please enter your EIA API key: \")\n",
        "\n",
        "    # Initialize fetcher and save data\n",
        "    fetcher = EIADataFetcher(api_key)\n",
        "    fetcher.save_data()\n",
        "\n",
        "if __name__ == \"__main__\":\n",
        "    main()"
      ],
      "metadata": {
        "colab": {
          "base_uri": "https://localhost:8080/",
          "height": 619
        },
        "id": "yWlITsoXOBsI",
        "outputId": "80e455c2-c6ba-4965-ccb2-1f90be783f35"
      },
      "execution_count": null,
      "outputs": [
        {
          "output_type": "stream",
          "name": "stdout",
          "text": [
            "Please enter your EIA API key: 0uJhb753HljL7ey0rVz58sfzHdnR2l0KjSQqcdrZ\n",
            "URL requested: https://api.eia.gov/v2/electricity/rto/region-data/data?api_key=0uJhb753HljL7ey0rVz58sfzHdnR2l0KjSQqcdrZ&data%5B%5D=value&facets%5Brespondent%5D%5B%5D=CAISO&frequency=hourly&start=2025-01-08T04&end=2025-01-15T04&sort%5B0%5D%5Bcolumn%5D=period&sort%5B0%5D%5Bdirection%5D=asc\n",
            "URL requested: https://api.eia.gov/v2/electricity/rto/region-data/data?api_key=0uJhb753HljL7ey0rVz58sfzHdnR2l0KjSQqcdrZ&data%5B%5D=value&facets%5Brespondent%5D%5B%5D=ERCOT&frequency=hourly&start=2025-01-08T04&end=2025-01-15T04&sort%5B0%5D%5Bcolumn%5D=period&sort%5B0%5D%5Bdirection%5D=asc\n"
          ]
        },
        {
          "output_type": "error",
          "ename": "KeyError",
          "evalue": "'period'",
          "traceback": [
            "\u001b[0;31m---------------------------------------------------------------------------\u001b[0m",
            "\u001b[0;31mKeyError\u001b[0m                                  Traceback (most recent call last)",
            "\u001b[0;32m/usr/local/lib/python3.10/dist-packages/pandas/core/indexes/base.py\u001b[0m in \u001b[0;36mget_loc\u001b[0;34m(self, key)\u001b[0m\n\u001b[1;32m   3804\u001b[0m         \u001b[0;32mtry\u001b[0m\u001b[0;34m:\u001b[0m\u001b[0;34m\u001b[0m\u001b[0;34m\u001b[0m\u001b[0m\n\u001b[0;32m-> 3805\u001b[0;31m             \u001b[0;32mreturn\u001b[0m \u001b[0mself\u001b[0m\u001b[0;34m.\u001b[0m\u001b[0m_engine\u001b[0m\u001b[0;34m.\u001b[0m\u001b[0mget_loc\u001b[0m\u001b[0;34m(\u001b[0m\u001b[0mcasted_key\u001b[0m\u001b[0;34m)\u001b[0m\u001b[0;34m\u001b[0m\u001b[0;34m\u001b[0m\u001b[0m\n\u001b[0m\u001b[1;32m   3806\u001b[0m         \u001b[0;32mexcept\u001b[0m \u001b[0mKeyError\u001b[0m \u001b[0;32mas\u001b[0m \u001b[0merr\u001b[0m\u001b[0;34m:\u001b[0m\u001b[0;34m\u001b[0m\u001b[0;34m\u001b[0m\u001b[0m\n",
            "\u001b[0;32mindex.pyx\u001b[0m in \u001b[0;36mpandas._libs.index.IndexEngine.get_loc\u001b[0;34m()\u001b[0m\n",
            "\u001b[0;32mindex.pyx\u001b[0m in \u001b[0;36mpandas._libs.index.IndexEngine.get_loc\u001b[0;34m()\u001b[0m\n",
            "\u001b[0;32mpandas/_libs/hashtable_class_helper.pxi\u001b[0m in \u001b[0;36mpandas._libs.hashtable.PyObjectHashTable.get_item\u001b[0;34m()\u001b[0m\n",
            "\u001b[0;32mpandas/_libs/hashtable_class_helper.pxi\u001b[0m in \u001b[0;36mpandas._libs.hashtable.PyObjectHashTable.get_item\u001b[0;34m()\u001b[0m\n",
            "\u001b[0;31mKeyError\u001b[0m: 'period'",
            "\nThe above exception was the direct cause of the following exception:\n",
            "\u001b[0;31mKeyError\u001b[0m                                  Traceback (most recent call last)",
            "\u001b[0;32m<ipython-input-4-2f3df6cfc621>\u001b[0m in \u001b[0;36m<cell line: 102>\u001b[0;34m()\u001b[0m\n\u001b[1;32m    101\u001b[0m \u001b[0;34m\u001b[0m\u001b[0m\n\u001b[1;32m    102\u001b[0m \u001b[0;32mif\u001b[0m \u001b[0m__name__\u001b[0m \u001b[0;34m==\u001b[0m \u001b[0;34m\"__main__\"\u001b[0m\u001b[0;34m:\u001b[0m\u001b[0;34m\u001b[0m\u001b[0;34m\u001b[0m\u001b[0m\n\u001b[0;32m--> 103\u001b[0;31m     \u001b[0mmain\u001b[0m\u001b[0;34m(\u001b[0m\u001b[0;34m)\u001b[0m\u001b[0;34m\u001b[0m\u001b[0;34m\u001b[0m\u001b[0m\n\u001b[0m",
            "\u001b[0;32m<ipython-input-4-2f3df6cfc621>\u001b[0m in \u001b[0;36mmain\u001b[0;34m()\u001b[0m\n\u001b[1;32m     98\u001b[0m     \u001b[0;31m# Initialize fetcher and save data\u001b[0m\u001b[0;34m\u001b[0m\u001b[0;34m\u001b[0m\u001b[0m\n\u001b[1;32m     99\u001b[0m     \u001b[0mfetcher\u001b[0m \u001b[0;34m=\u001b[0m \u001b[0mEIADataFetcher\u001b[0m\u001b[0;34m(\u001b[0m\u001b[0mapi_key\u001b[0m\u001b[0;34m)\u001b[0m\u001b[0;34m\u001b[0m\u001b[0;34m\u001b[0m\u001b[0m\n\u001b[0;32m--> 100\u001b[0;31m     \u001b[0mfetcher\u001b[0m\u001b[0;34m.\u001b[0m\u001b[0msave_data\u001b[0m\u001b[0;34m(\u001b[0m\u001b[0;34m)\u001b[0m\u001b[0;34m\u001b[0m\u001b[0;34m\u001b[0m\u001b[0m\n\u001b[0m\u001b[1;32m    101\u001b[0m \u001b[0;34m\u001b[0m\u001b[0m\n\u001b[1;32m    102\u001b[0m \u001b[0;32mif\u001b[0m \u001b[0m__name__\u001b[0m \u001b[0;34m==\u001b[0m \u001b[0;34m\"__main__\"\u001b[0m\u001b[0;34m:\u001b[0m\u001b[0;34m\u001b[0m\u001b[0;34m\u001b[0m\u001b[0m\n",
            "\u001b[0;32m<ipython-input-4-2f3df6cfc621>\u001b[0m in \u001b[0;36msave_data\u001b[0;34m(self)\u001b[0m\n\u001b[1;32m     78\u001b[0m         \u001b[0mSave\u001b[0m \u001b[0mthe\u001b[0m \u001b[0melectricity\u001b[0m \u001b[0mprice\u001b[0m \u001b[0mdata\u001b[0m\u001b[0;34m\u001b[0m\u001b[0;34m\u001b[0m\u001b[0m\n\u001b[1;32m     79\u001b[0m         \"\"\"\n\u001b[0;32m---> 80\u001b[0;31m         \u001b[0mdata\u001b[0m \u001b[0;34m=\u001b[0m \u001b[0mself\u001b[0m\u001b[0;34m.\u001b[0m\u001b[0mget_wholesale_prices\u001b[0m\u001b[0;34m(\u001b[0m\u001b[0;34m)\u001b[0m\u001b[0;34m\u001b[0m\u001b[0;34m\u001b[0m\u001b[0m\n\u001b[0m\u001b[1;32m     81\u001b[0m         \u001b[0;32mif\u001b[0m \u001b[0mdata\u001b[0m \u001b[0;32mis\u001b[0m \u001b[0;32mnot\u001b[0m \u001b[0;32mNone\u001b[0m\u001b[0;34m:\u001b[0m\u001b[0;34m\u001b[0m\u001b[0;34m\u001b[0m\u001b[0m\n\u001b[1;32m     82\u001b[0m             \u001b[0;31m# Save to CSV\u001b[0m\u001b[0;34m\u001b[0m\u001b[0;34m\u001b[0m\u001b[0m\n",
            "\u001b[0;32m<ipython-input-4-2f3df6cfc621>\u001b[0m in \u001b[0;36mget_wholesale_prices\u001b[0;34m(self)\u001b[0m\n\u001b[1;32m     57\u001b[0m \u001b[0;34m\u001b[0m\u001b[0m\n\u001b[1;32m     58\u001b[0m         \u001b[0;31m# Process the dataframe\u001b[0m\u001b[0;34m\u001b[0m\u001b[0;34m\u001b[0m\u001b[0m\n\u001b[0;32m---> 59\u001b[0;31m         \u001b[0mcombined_df\u001b[0m\u001b[0;34m[\u001b[0m\u001b[0;34m'period'\u001b[0m\u001b[0;34m]\u001b[0m \u001b[0;34m=\u001b[0m \u001b[0mpd\u001b[0m\u001b[0;34m.\u001b[0m\u001b[0mto_datetime\u001b[0m\u001b[0;34m(\u001b[0m\u001b[0mcombined_df\u001b[0m\u001b[0;34m[\u001b[0m\u001b[0;34m'period'\u001b[0m\u001b[0;34m]\u001b[0m\u001b[0;34m)\u001b[0m\u001b[0;34m\u001b[0m\u001b[0;34m\u001b[0m\u001b[0m\n\u001b[0m\u001b[1;32m     60\u001b[0m         processed_df = combined_df.pivot(index='period', \n\u001b[1;32m     61\u001b[0m                                        \u001b[0mcolumns\u001b[0m\u001b[0;34m=\u001b[0m\u001b[0;34m'market'\u001b[0m\u001b[0;34m,\u001b[0m\u001b[0;34m\u001b[0m\u001b[0;34m\u001b[0m\u001b[0m\n",
            "\u001b[0;32m/usr/local/lib/python3.10/dist-packages/pandas/core/frame.py\u001b[0m in \u001b[0;36m__getitem__\u001b[0;34m(self, key)\u001b[0m\n\u001b[1;32m   4100\u001b[0m             \u001b[0;32mif\u001b[0m \u001b[0mself\u001b[0m\u001b[0;34m.\u001b[0m\u001b[0mcolumns\u001b[0m\u001b[0;34m.\u001b[0m\u001b[0mnlevels\u001b[0m \u001b[0;34m>\u001b[0m \u001b[0;36m1\u001b[0m\u001b[0;34m:\u001b[0m\u001b[0;34m\u001b[0m\u001b[0;34m\u001b[0m\u001b[0m\n\u001b[1;32m   4101\u001b[0m                 \u001b[0;32mreturn\u001b[0m \u001b[0mself\u001b[0m\u001b[0;34m.\u001b[0m\u001b[0m_getitem_multilevel\u001b[0m\u001b[0;34m(\u001b[0m\u001b[0mkey\u001b[0m\u001b[0;34m)\u001b[0m\u001b[0;34m\u001b[0m\u001b[0;34m\u001b[0m\u001b[0m\n\u001b[0;32m-> 4102\u001b[0;31m             \u001b[0mindexer\u001b[0m \u001b[0;34m=\u001b[0m \u001b[0mself\u001b[0m\u001b[0;34m.\u001b[0m\u001b[0mcolumns\u001b[0m\u001b[0;34m.\u001b[0m\u001b[0mget_loc\u001b[0m\u001b[0;34m(\u001b[0m\u001b[0mkey\u001b[0m\u001b[0;34m)\u001b[0m\u001b[0;34m\u001b[0m\u001b[0;34m\u001b[0m\u001b[0m\n\u001b[0m\u001b[1;32m   4103\u001b[0m             \u001b[0;32mif\u001b[0m \u001b[0mis_integer\u001b[0m\u001b[0;34m(\u001b[0m\u001b[0mindexer\u001b[0m\u001b[0;34m)\u001b[0m\u001b[0;34m:\u001b[0m\u001b[0;34m\u001b[0m\u001b[0;34m\u001b[0m\u001b[0m\n\u001b[1;32m   4104\u001b[0m                 \u001b[0mindexer\u001b[0m \u001b[0;34m=\u001b[0m \u001b[0;34m[\u001b[0m\u001b[0mindexer\u001b[0m\u001b[0;34m]\u001b[0m\u001b[0;34m\u001b[0m\u001b[0;34m\u001b[0m\u001b[0m\n",
            "\u001b[0;32m/usr/local/lib/python3.10/dist-packages/pandas/core/indexes/base.py\u001b[0m in \u001b[0;36mget_loc\u001b[0;34m(self, key)\u001b[0m\n\u001b[1;32m   3810\u001b[0m             ):\n\u001b[1;32m   3811\u001b[0m                 \u001b[0;32mraise\u001b[0m \u001b[0mInvalidIndexError\u001b[0m\u001b[0;34m(\u001b[0m\u001b[0mkey\u001b[0m\u001b[0;34m)\u001b[0m\u001b[0;34m\u001b[0m\u001b[0;34m\u001b[0m\u001b[0m\n\u001b[0;32m-> 3812\u001b[0;31m             \u001b[0;32mraise\u001b[0m \u001b[0mKeyError\u001b[0m\u001b[0;34m(\u001b[0m\u001b[0mkey\u001b[0m\u001b[0;34m)\u001b[0m \u001b[0;32mfrom\u001b[0m \u001b[0merr\u001b[0m\u001b[0;34m\u001b[0m\u001b[0;34m\u001b[0m\u001b[0m\n\u001b[0m\u001b[1;32m   3813\u001b[0m         \u001b[0;32mexcept\u001b[0m \u001b[0mTypeError\u001b[0m\u001b[0;34m:\u001b[0m\u001b[0;34m\u001b[0m\u001b[0;34m\u001b[0m\u001b[0m\n\u001b[1;32m   3814\u001b[0m             \u001b[0;31m# If we have a listlike key, _check_indexing_error will raise\u001b[0m\u001b[0;34m\u001b[0m\u001b[0;34m\u001b[0m\u001b[0m\n",
            "\u001b[0;31mKeyError\u001b[0m: 'period'"
          ]
        }
      ]
    }
  ]
}