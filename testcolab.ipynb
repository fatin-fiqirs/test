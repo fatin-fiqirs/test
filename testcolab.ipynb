test python code here using colab
